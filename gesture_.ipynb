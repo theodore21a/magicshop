{
 "cells": [
  {
   "cell_type": "code",
   "execution_count": 4,
   "id": "47d120ce",
   "metadata": {},
   "outputs": [
    {
     "name": "stderr",
     "output_type": "stream",
     "text": [
      "C:\\Users\\felin\\Downloads\\python\\Lib\\site-packages\\keras\\src\\layers\\convolutional\\base_conv.py:107: UserWarning: Do not pass an `input_shape`/`input_dim` argument to a layer. When using Sequential models, prefer using an `Input(shape)` object as the first layer in the model instead.\n",
      "  super().__init__(activity_regularizer=activity_regularizer, **kwargs)\n"
     ]
    },
    {
     "name": "stdout",
     "output_type": "stream",
     "text": [
      "Epoch 1/10\n",
      "\u001b[1m578/578\u001b[0m \u001b[32m━━━━━━━━━━━━━━━━━━━━\u001b[0m\u001b[37m\u001b[0m \u001b[1m20s\u001b[0m 30ms/step - accuracy: 0.4125 - loss: 1.2963 - val_accuracy: 0.5543 - val_loss: 1.0675\n",
      "Epoch 2/10\n",
      "\u001b[1m578/578\u001b[0m \u001b[32m━━━━━━━━━━━━━━━━━━━━\u001b[0m\u001b[37m\u001b[0m \u001b[1m18s\u001b[0m 32ms/step - accuracy: 0.5869 - loss: 1.0018 - val_accuracy: 0.6109 - val_loss: 0.9552\n",
      "Epoch 3/10\n",
      "\u001b[1m578/578\u001b[0m \u001b[32m━━━━━━━━━━━━━━━━━━━━\u001b[0m\u001b[37m\u001b[0m \u001b[1m18s\u001b[0m 32ms/step - accuracy: 0.6431 - loss: 0.8823 - val_accuracy: 0.6296 - val_loss: 0.9142\n",
      "Epoch 4/10\n",
      "\u001b[1m578/578\u001b[0m \u001b[32m━━━━━━━━━━━━━━━━━━━━\u001b[0m\u001b[37m\u001b[0m \u001b[1m20s\u001b[0m 31ms/step - accuracy: 0.6666 - loss: 0.8215 - val_accuracy: 0.6609 - val_loss: 0.8502\n",
      "Epoch 5/10\n",
      "\u001b[1m578/578\u001b[0m \u001b[32m━━━━━━━━━━━━━━━━━━━━\u001b[0m\u001b[37m\u001b[0m \u001b[1m17s\u001b[0m 30ms/step - accuracy: 0.7018 - loss: 0.7551 - val_accuracy: 0.6693 - val_loss: 0.8220\n",
      "Epoch 6/10\n",
      "\u001b[1m578/578\u001b[0m \u001b[32m━━━━━━━━━━━━━━━━━━━━\u001b[0m\u001b[37m\u001b[0m \u001b[1m20s\u001b[0m 29ms/step - accuracy: 0.7251 - loss: 0.7087 - val_accuracy: 0.6835 - val_loss: 0.7996\n",
      "Epoch 7/10\n",
      "\u001b[1m578/578\u001b[0m \u001b[32m━━━━━━━━━━━━━━━━━━━━\u001b[0m\u001b[37m\u001b[0m \u001b[1m17s\u001b[0m 30ms/step - accuracy: 0.7379 - loss: 0.6710 - val_accuracy: 0.6837 - val_loss: 0.8152\n",
      "Epoch 8/10\n",
      "\u001b[1m578/578\u001b[0m \u001b[32m━━━━━━━━━━━━━━━━━━━━\u001b[0m\u001b[37m\u001b[0m \u001b[1m17s\u001b[0m 30ms/step - accuracy: 0.7527 - loss: 0.6298 - val_accuracy: 0.6872 - val_loss: 0.7977\n",
      "Epoch 9/10\n",
      "\u001b[1m578/578\u001b[0m \u001b[32m━━━━━━━━━━━━━━━━━━━━\u001b[0m\u001b[37m\u001b[0m \u001b[1m18s\u001b[0m 31ms/step - accuracy: 0.7624 - loss: 0.5938 - val_accuracy: 0.6870 - val_loss: 0.7974\n",
      "Epoch 10/10\n",
      "\u001b[1m578/578\u001b[0m \u001b[32m━━━━━━━━━━━━━━━━━━━━\u001b[0m\u001b[37m\u001b[0m \u001b[1m17s\u001b[0m 30ms/step - accuracy: 0.7802 - loss: 0.5557 - val_accuracy: 0.6937 - val_loss: 0.8284\n"
     ]
    },
    {
     "data": {
      "image/png": "[encoded data removed]",
      "text/plain": [
       "<Figure size 640x480 with 1 Axes>"
      ]
     },
     "metadata": {},
     "output_type": "display_data"
    },
    {
     "name": "stdout",
     "output_type": "stream",
     "text": [
      "\u001b[1m1/1\u001b[0m \u001b[32m━━━━━━━━━━━━━━━━━━━━\u001b[0m\u001b[37m\u001b[0m \u001b[1m0s\u001b[0m 137ms/step\n",
      "Predicted class: 2, Confidence: 0.8114204406738281\n"
     ]
    }
   ],
   "source": [
    "import numpy as np\n",
    "import tensorflow as tf\n",
    "import matplotlib.pyplot as plt\n",
    "from tensorflow.keras import Sequential\n",
    "from tensorflow.keras.layers import Conv2D, MaxPool2D, Flatten, Dense\n",
    "\n",
    "# Load data\n",
    "X_train = np.load(r\"C:\\Users\\felin\\Downloads\\gesture_detection-20241122T185354Z-001\\gesture_detection\\train_validation\\train_gesture.npy\")\n",
    "y_train = np.load(r\"C:\\Users\\felin\\Downloads\\gesture_detection-20241122T185354Z-001\\gesture_detection\\train_validation\\train_gesture_labels.npy\")\n",
    "X_val = np.load(r\"C:\\Users\\felin\\Downloads\\gesture_detection-20241122T185354Z-001\\gesture_detection\\train_validation\\validation_gesture.npy\")\n",
    "y_val = np.load(r\"C:\\Users\\felin\\Downloads\\gesture_detection-20241122T185354Z-001\\gesture_detection\\train_validation\\validation_gesture_labels.npy\")\n",
    "\n",
    "# Normalize data\n",
    "X_train, X_val = X_train / 255.0, X_val / 255.0\n",
    "\n",
    "# Reshape data for model input (48x48 grayscale)\n",
    "X_train = X_train.reshape(-1, 48, 48, 1)\n",
    "X_val = X_val.reshape(-1, 48, 48, 1)\n",
    "\n",
    "# Build the model\n",
    "model = Sequential([\n",
    "    Conv2D(16, (3, 3), activation='relu', padding='same', input_shape=(48, 48, 1)),\n",
    "    MaxPool2D(2, 2),\n",
    "    Conv2D(32, (3, 3), activation='relu', padding='same'),\n",
    "    MaxPool2D(2, 2),\n",
    "    Conv2D(64, (3, 3), activation='relu', padding='same'),\n",
    "    MaxPool2D(2, 2),\n",
    "    Flatten(),\n",
    "    Dense(4, activation='softmax')  # 4 classes for emotions\n",
    "])\n",
    "\n",
    "# Compile the model\n",
    "model.compile(optimizer='adam', loss='sparse_categorical_crossentropy', metrics=['accuracy'])\n",
    "\n",
    "# Train the model\n",
    "model.fit(X_train, y_train, validation_data=(X_val, y_val), epochs=10, batch_size=32)\n",
    "\n",
    "# Test the model (show prediction for one image)\n",
    "plt.imshow(X_val[0].reshape(48, 48), cmap='gray')\n",
    "plt.title(f\"True label: {y_val[0]}\")\n",
    "plt.show()\n",
    "\n",
    "# Predict and display result\n",
    "pred = model.predict(X_val[0].reshape(1, 48, 48, 1))\n",
    "predicted_class = np.argmax(pred)\n",
    "confidence = pred[0][predicted_class]\n",
    "print(f'Predicted class: {predicted_class}, Confidence: {confidence}')\n"
   ]
  },
  {
   "cell_type": "code",
   "execution_count": null,
   "id": "10cd9068",
   "metadata": {},
   "outputs": [],
   "source": []
  }
 ],
 "metadata": {
  "kernelspec": {
   "display_name": "Python 3 (ipykernel)",
   "language": "python",
   "name": "python3"
  },
  "language_info": {
   "codemirror_mode": {
    "name": "ipython",
    "version": 3
   },
   "file_extension": ".py",
   "mimetype": "text/x-python",
   "name": "python",
   "nbconvert_exporter": "python",
   "pygments_lexer": "ipython3",
   "version": "3.11.5"
  }
 },
 "nbformat": 4,
 "nbformat_minor": 5
}
